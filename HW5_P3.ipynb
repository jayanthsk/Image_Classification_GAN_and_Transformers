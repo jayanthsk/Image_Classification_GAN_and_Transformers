{
  "cells": [
    {
      "cell_type": "markdown",
      "metadata": {
        "id": "lonFCdkHkWOV"
      },
      "source": [
        "# P3: GAN (30%)\n",
        "In this problem, we will train a generative adversarial network (GAN) to generate new celebrities after showing it pictures of many real celebrities."
      ]
    },
    {
      "cell_type": "code",
      "execution_count": null,
      "metadata": {
        "id": "Mg9bMoEQkP7j"
      },
      "outputs": [],
      "source": [
        "%matplotlib inline\n",
        "\n",
        "from __future__ import print_function\n",
        "\n",
        "import argparse\n",
        "import os\n",
        "import random\n",
        "import torch\n",
        "import torch.nn as nn\n",
        "import torch.nn.parallel\n",
        "import torch.backends.cudnn as cudnn\n",
        "import torch.optim as optim\n",
        "import torch.utils.data\n",
        "import torchvision.datasets as dset\n",
        "import torchvision.transforms as transforms\n",
        "import torchvision.utils as vutils\n",
        "import numpy as np\n",
        "import matplotlib.pyplot as plt\n",
        "import matplotlib.animation as animation\n",
        "from IPython.display import HTML\n",
        "\n",
        "# Set random seed for reproducibility\n",
        "manualSeed = 999\n",
        "# manualSeed = random.randint(1, 10000)  # use if you want new results\n",
        "print(\"Random Seed: \", manualSeed)\n",
        "random.seed(manualSeed)\n",
        "torch.manual_seed(manualSeed)"
      ]
    },
    {
      "cell_type": "markdown",
      "metadata": {
        "id": "KcFr1udJkfkC"
      },
      "source": [
        "### (a) Prepare CelebA Dataset\n",
        "\n",
        "we will use the [Celeb-A Faces\n",
        "dataset](http://mmlab.ie.cuhk.edu.hk/projects/CelebA.html) which can\n",
        "be downloaded from the [link](https://drive.google.com/uc?id=0B7EVK8r0v71pZjFTYXZWM3FlRnM).\n",
        "The dataset will download as a file named `img_align_celeba.zip`. Once\n",
        "downloaded, create a directory named `CelebA` and extract the zip file\n",
        "into that directory. Then, set the `dataroot` input for this notebook to\n",
        "the `CelebA` directory you just created. The resulting directory\n",
        "structure should be:\n",
        "\n",
        "```\n",
        "   /path/to/CelebA\n",
        "       -> img_align_celeba  \n",
        "           -> 188242.jpg\n",
        "           -> 173822.jpg\n",
        "           -> 284702.jpg\n",
        "           -> 537394.jpg\n",
        "              ...\n",
        "```\n",
        "\n",
        "This is an important step because we will be using the ImageFolder\n",
        "dataset class, which requires there to be subdirectories in the\n",
        "dataset’s root folder."
      ]
    },
    {
      "cell_type": "code",
      "execution_count": null,
      "metadata": {
        "id": "xp49cmDykbmF"
      },
      "outputs": [],
      "source": [
        "!gdown --fuzzy https://drive.google.com/file/d/0B7EVK8r0v71pZjFTYXZWM3FlRnM/view?usp=share_link&resourcekey=0-dYn9z10tMJOBAkviAcfdyQ img_align_celeba.zip"
      ]
    },
    {
      "cell_type": "code",
      "execution_count": null,
      "metadata": {
        "id": "ZUyrsE6Iknjy"
      },
      "outputs": [],
      "source": [
        "!mkdir ./CelebA\n",
        "!unzip /content/img_align_celeba.zip -d ./CelebA"
      ]
    },
    {
      "cell_type": "markdown",
      "metadata": {
        "id": "Ca3BmGbrkzmB"
      },
      "source": [
        "Set parameters for the implemented network."
      ]
    },
    {
      "cell_type": "code",
      "execution_count": null,
      "metadata": {
        "id": "owhupt7Ikt__"
      },
      "outputs": [],
      "source": [
        "# Root directory for dataset\n",
        "dataroot = \"./CelebA\"\n",
        "# Number of workers for dataloader\n",
        "workers = 2\n",
        "# Batch size during training\n",
        "batch_size = 256\n",
        "# Spatial size of training images. All images will be resized to this size using a transformer.\n",
        "image_size = 64\n",
        "# Number of channels in the training images. For color images this is 3\n",
        "nc = 3\n",
        "# Size of z latent vector (i.e. size of generator input)\n",
        "nz = 100\n",
        "# Learning rate for optimizers\n",
        "lr = 0.0005\n",
        "# Beta1 hyperparam for Adam optimizers\n",
        "beta1 = 0.5"
      ]
    },
    {
      "cell_type": "markdown",
      "metadata": {
        "id": "yrvGQT7Ik4PN"
      },
      "source": [
        "Now, we can create the dataset, create the\n",
        "dataloader, set the device to run on, and finally visualize some of the\n",
        "training data.\n",
        "\n"
      ]
    },
    {
      "cell_type": "code",
      "execution_count": null,
      "metadata": {
        "id": "jDCZXH8Gk5Ub"
      },
      "outputs": [],
      "source": [
        "# We can use an image folder dataset the way we have it setup.\n",
        "# Create the dataset\n",
        "dataset = dset.ImageFolder(root=dataroot,\n",
        "                           transform=transforms.Compose([\n",
        "                               transforms.Resize(image_size),\n",
        "                               transforms.CenterCrop(image_size),\n",
        "                               transforms.ToTensor(),\n",
        "                               transforms.Normalize((0.5, 0.5, 0.5), (0.5, 0.5, 0.5)),\n",
        "                           ]))\n",
        "# Create the dataloader\n",
        "dataloader = torch.utils.data.DataLoader(dataset, batch_size=batch_size,\n",
        "                                         shuffle=True, num_workers=workers)\n",
        "\n",
        "# Decide which device we want to run on\n",
        "device = torch.device(\"cuda:0\" if torch.cuda.is_available() else \"cpu\")\n",
        "\n",
        "# Plot some training images\n",
        "real_batch = next(iter(dataloader))\n",
        "plt.figure(figsize=(8,8))\n",
        "plt.axis(\"off\")\n",
        "plt.title(\"Training Images\")\n",
        "plt.imshow(np.transpose(vutils.make_grid(real_batch[0].to(device)[192:], padding=2, normalize=True).cpu(),(1,2,0)))"
      ]
    },
    {
      "cell_type": "markdown",
      "metadata": {
        "id": "OXHc88yxlNww"
      },
      "source": [
        "### (b) GAN Implementation\n"
      ]
    },
    {
      "cell_type": "markdown",
      "metadata": {
        "id": "yV4iVH7alVaG"
      },
      "source": [
        "#### 1. Weight Initialization\n",
        "\n",
        "All model weights in GAN should be randomly initialized from a Normal distribution with `mean = 0`, `stdev = 0.02`. The ``weights_init`` function takes an initialized model as input and reinitializes all convolutional, convolutional-transpose, and batch normalization layers to meet this criteria. This function is applied to the models immediately after initialization."
      ]
    },
    {
      "cell_type": "code",
      "execution_count": null,
      "metadata": {
        "id": "sOcG1HZEk79-"
      },
      "outputs": [],
      "source": [
        "# custom weights initialization called on netG and netD\n",
        "def weights_init(m):\n",
        "  classname = m.__class__.__name__\n",
        "  if classname.find('Conv') != -1:\n",
        "    nn.init.normal_(m.weight.data, 0.0, 0.02)\n",
        "  elif classname.find('BatchNorm') != -1:\n",
        "    nn.init.normal_(m.weight.data, 1.0, 0.02)\n",
        "    nn.init.constant_(m.bias.data, 0)"
      ]
    },
    {
      "cell_type": "markdown",
      "metadata": {
        "id": "wEAOK2d9lR8u"
      },
      "source": [
        "#### 2. Generator\n",
        "\n",
        "The generator $G$, is designed to map the latent space vector\n",
        "$z$ to data-space. Since our data are images, converting\n",
        "$z$ to data-space means ultimately creating an RGB image with the\n",
        "same size as the training images (i.e. 3x64x64). In practice, this is\n",
        "accomplished through a series of strided two dimensional convolutional\n",
        "transpose layers, each paired with a 2D batch norm layer and a relu\n",
        "activation. The output of the generator is fed through a tanh function\n",
        "to return it to the input data range of $[-1,1]$."
      ]
    },
    {
      "cell_type": "code",
      "execution_count": null,
      "metadata": {
        "id": "rc9oWqw1lQfi"
      },
      "outputs": [],
      "source": [
        "class Generator(nn.Module):\n",
        "  def __init__(self):\n",
        "    super(Generator, self).__init__()\n",
        "    # TODO: finish implementing the network architecture\n",
        "    self.seq = nn.Sequential(\n",
        "      # TODO: the first ConvTranspose2d layer will take the noise as input with size of 100\n",
        "      # so you will need at least one ConvTranspose2d layer, one BatchNorm2d layer followed by a ReLU activation here\n",
        "\n",
        "      # ENDS HERE\n",
        "      nn.ConvTranspose2d(512, 256, kernel_size=(4, 4), stride=(2, 2), padding=(1, 1), bias=False),\n",
        "      nn.BatchNorm2d(256, eps=1e-05, momentum=0.1, affine=True, track_running_stats=True),\n",
        "      nn.ReLU(),\n",
        "      nn.ConvTranspose2d(256, 128, kernel_size=(4, 4), stride=(2, 2), padding=(1, 1), bias=False),\n",
        "      nn.BatchNorm2d(128, eps=1e-05, momentum=0.1, affine=True, track_running_stats=True),\n",
        "      nn.ReLU(),\n",
        "      nn.ConvTranspose2d(128, 64, kernel_size=(4, 4), stride=(2, 2), padding=(1, 1), bias=False),\n",
        "      nn.BatchNorm2d(64, eps=1e-05, momentum=0.1, affine=True, track_running_stats=True),\n",
        "      nn.ReLU(),\n",
        "      nn.ConvTranspose2d(64, 3, kernel_size=(4, 4), stride=(2, 2), padding=(1, 1), bias=False),\n",
        "      nn.Tanh()\n",
        "    )\n",
        "\n",
        "  def forward(self, input):\n",
        "    x = self.seq(input)\n",
        "    return x"
      ]
    },
    {
      "cell_type": "code",
      "execution_count": null,
      "metadata": {
        "id": "NIQlXqHelfNM"
      },
      "outputs": [],
      "source": [
        "# Create the generator\n",
        "netG = Generator().to(device)\n",
        "\n",
        "# Apply the weights_init function to randomly initialize all weights\n",
        "#  to mean=0, stdev=0.2.\n",
        "netG.apply(weights_init)\n",
        "\n",
        "# Print the model\n",
        "print(netG)"
      ]
    },
    {
      "cell_type": "markdown",
      "metadata": {
        "id": "uuAVXne_Mv9b"
      },
      "source": [
        "![Screenshot 2023-05-10 at 17.25.57.png](data:image/png;base64,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)"
      ]
    },
    {
      "cell_type": "markdown",
      "metadata": {
        "id": "b6WivWwbllYe"
      },
      "source": [
        "#### 3. Discriminator\n",
        "\n",
        "The discriminator $D$ is a binary classification\n",
        "network that takes an image as input and outputs a scalar probability\n",
        "that the input image is real (as opposed to fake). Here, $D$ takes\n",
        "a 3x64x64 input image, processes it through a series of Conv2d,\n",
        "BatchNorm2d, and ReLU layers, and outputs the final probability\n",
        "through a Sigmoid activation function. This architecture can be extended\n",
        "with more layers if necessary for the problem, but there is significance\n",
        "to the use of the strided convolution, BatchNorm, and ReLUs.\n"
      ]
    },
    {
      "cell_type": "code",
      "execution_count": null,
      "metadata": {
        "id": "Cu3SMGFCljnM"
      },
      "outputs": [],
      "source": [
        "class Discriminator(nn.Module):\n",
        "  def __init__(self):\n",
        "    super(Discriminator, self).__init__()\n",
        "    # TODO: finish implementing the network architecture\n",
        "    self.seq = nn.Sequential(\n",
        "        nn.Conv2d(3, 64, kernel_size=(4, 4), stride=(2, 2), padding=(1, 1), bias=False),\n",
        "        nn.ReLU(),\n",
        "        nn.Conv2d(64, 128, kernel_size=(4, 4), stride=(2, 2), padding=(1, 1), bias=False),\n",
        "        nn.BatchNorm2d(128, eps=1e-05, momentum=0.1, affine=True, track_running_stats=True),\n",
        "        nn.ReLU(),\n",
        "        nn.Conv2d(128, 256, kernel_size=(4, 4), stride=(2, 2), padding=(1, 1), bias=False),\n",
        "        nn.BatchNorm2d(256, eps=1e-05, momentum=0.1, affine=True, track_running_stats=True),\n",
        "        nn.ReLU(),\n",
        "        nn.Conv2d(256, 512, kernel_size=(4, 4), stride=(2, 2), padding=(1, 1), bias=False),\n",
        "        nn.BatchNorm2d(512, eps=1e-05, momentum=0.1, affine=True, track_running_stats=True),\n",
        "        nn.ReLU(),\n",
        "        # TODO: the last Conv2d layer of the doscriminator followed by a sigmoid\n",
        "\n",
        "        # ENDS HERE\n",
        "    )\n",
        "\n",
        "  def forward(self, input):\n",
        "    x = self.seq(input)\n",
        "    return x"
      ]
    },
    {
      "cell_type": "code",
      "execution_count": null,
      "metadata": {
        "id": "u3VffPTylrgh"
      },
      "outputs": [],
      "source": [
        "# Create the Discriminator\n",
        "netD = Discriminator().to(device)\n",
        "\n",
        "# Apply the weights_init function to randomly initialize all weights\n",
        "#  to mean=0, stdev=0.2.\n",
        "netD.apply(weights_init)\n",
        "\n",
        "# Print the model\n",
        "print(netD)"
      ]
    },
    {
      "cell_type": "markdown",
      "metadata": {
        "id": "OJg7oOZ2luOW"
      },
      "source": [
        "#### Loss Functions and Optimizers\n",
        "\n",
        "With $D$ and $G$ setup, we can specify how they learn\n",
        "through the loss functions and optimizers. We will use the Binary Cross\n",
        "Entropy loss\n",
        "([`BCELoss`](https://pytorch.org/docs/stable/nn.html#torch.nn.BCELoss))\n",
        "function which is defined in PyTorch as:\n",
        "\n",
        "\\begin{align}\\ell(x, y) = L = \\{l_1,\\dots,l_N\\}^\\top, \\quad l_n = - \\left[ y_n \\cdot \\log x_n + (1 - y_n) \\cdot \\log (1 - x_n) \\right]\\end{align}\n",
        "\n",
        "Notice how this function provides the calculation of both log components\n",
        "in the objective function (i.e. $\\log(D(x))$ and\n",
        "$\\log(1-D(G(z)))$). We can specify what part of the BCE equation to\n",
        "use with the $y$ input. This is accomplished in the training loop\n",
        "which is coming up soon, but it is important to understand how we can\n",
        "choose which component we wish to calculate just by changing $y$\n",
        "(i.e. GT labels)."
      ]
    },
    {
      "cell_type": "code",
      "execution_count": null,
      "metadata": {
        "id": "UkAFn9Yelsoi"
      },
      "outputs": [],
      "source": [
        "# Initialize BCELoss function\n",
        "criterion = nn.BCELoss()\n",
        "\n",
        "# Create batch of latent vectors that we will use to visualize\n",
        "#  the progression of the generator\n",
        "fixed_noise = torch.randn(64, nz, 1, 1, device=device)\n",
        "\n",
        "# Establish convention for real and fake labels during training\n",
        "real_label = 1.\n",
        "fake_label = 0.\n",
        "\n",
        "# Setup Adam optimizers for both G and D\n",
        "optimizerD = optim.Adam(netD.parameters(), lr=lr, betas=(beta1, 0.999))\n",
        "optimizerG = optim.Adam(netG.parameters(), lr=lr, betas=(beta1, 0.999))"
      ]
    },
    {
      "cell_type": "markdown",
      "metadata": {
        "id": "6M2TRi3qlzjl"
      },
      "source": [
        "#### 5. Training Loop\n",
        "\n",
        "\n",
        "Finally, now that we have all of the parts of the GAN framework defined,\n",
        "we can train it. Be mindful that training GANs is somewhat of an art\n",
        "form, as incorrect hyperparameter settings lead to mode collapse with\n",
        "little explanation of what went wrong. Here, we will closely follow\n",
        "Algorithm 1 from Goodfellow’s paper, while abiding by some of the best\n",
        "practices shown in [`ganhacks`](https://github.com/soumith/ganhacks).\n",
        "Namely, we will construct different mini-batches for real and fake\n",
        "images, and also adjust G’s objective function to maximize\n",
        "$\\log (D(G(z)))$. Training is split up into two main parts. Part 1\n",
        "updates the Discriminator and Part 2 updates the Generator.\n",
        "\n",
        "**Part 1: Train the Discriminator**\n",
        "\n",
        "Recall, the goal of training the discriminator is to maximize the\n",
        "probability of correctly classifying a given input as real or fake. In\n",
        "terms of Goodfellow, we wish to “update the discriminator by ascending\n",
        "its stochastic gradient”. Practically, we want to maximize\n",
        "$\\log(D(x)) + \\log(1-D(G(z)))$. Due to the separate mini-batch\n",
        "suggestion from ganhacks, we will calculate this in two steps. First, we\n",
        "will construct a batch of real samples from the training set, forward\n",
        "pass through $D$, calculate the loss ($\\log(D(x))$), then\n",
        "calculate the gradients in a backward pass. Secondly, we will construct\n",
        "a batch of fake samples with the current generator, forward pass this\n",
        "batch through $D$, calculate the loss ($\\log(1-D(G(z)))$),\n",
        "and *accumulate* the gradients with a backward pass. Now, with the\n",
        "gradients accumulated from both the all-real and all-fake batches, we\n",
        "call a step of the Discriminator’s optimizer.\n",
        "\n",
        "**Part 2: Train the Generator**\n",
        "\n",
        "As stated in the original paper, we want to train the Generator by\n",
        "minimizing $\\log(1-D(G(z)))$ in an effort to generate better fakes.\n",
        "As mentioned, this was shown by Goodfellow to not provide sufficient\n",
        "gradients, especially early in the learning process. As a fix, we\n",
        "instead wish to maximize $\\log(D(G(z)))$. In the code we accomplish\n",
        "this by: classifying the Generator output from Part 1 with the\n",
        "Discriminator, computing G’s loss *using real labels as GT*, computing\n",
        "G’s gradients in a backward pass, and finally updating G’s parameters\n",
        "with an optimizer step. It may seem counter-intuitive to use the real\n",
        "labels as GT labels for the loss function, but this allows us to use the\n",
        "$\\log(x)$ part of the BCELoss (rather than the $\\log(1-x)$\n",
        "part) which is exactly what we want.\n",
        "\n",
        "Finally, we will do some statistic reporting and at the end of each\n",
        "epoch we will push our fixed_noise batch through the generator to\n",
        "visually track the progress of G’s training. The training statistics\n",
        "reported are:\n",
        "\n",
        "-  **Loss_D** - discriminator loss calculated as the sum of losses for\n",
        "   the all real and all fake batches ($\\log(D(x)) + \\log(D(G(z)))$).\n",
        "-  **Loss_G** - generator loss calculated as $\\log(D(G(z)))$\n",
        "-  **D(x)** - the average output (across the batch) of the discriminator\n",
        "   for the all real batch. This should start close to 1 then\n",
        "   theoretically converge to 0.5 when G gets better. Think about why\n",
        "   this is.\n",
        "-  **D(G(z))** - average discriminator outputs for the all fake batch.\n",
        "   The first number is before D is updated and the second number is\n",
        "   after D is updated. These numbers should start near 0 and converge to\n",
        "   0.5 as G gets better. Think about why this is.\n",
        "\n",
        "**Note:** This step might take a while, depending on how many epochs you\n",
        "run and if you removed some data from the dataset.\n",
        "\n"
      ]
    },
    {
      "cell_type": "code",
      "execution_count": null,
      "metadata": {
        "id": "-PBrgseklyn1"
      },
      "outputs": [],
      "source": [
        "# Training Loop\n",
        "num_epochs = 30\n",
        "\n",
        "# Lists to keep track of progress\n",
        "img_list = []\n",
        "G_losses = []\n",
        "D_losses = []\n",
        "iters = 0\n",
        "\n",
        "print(\"Starting Training Loop...\")\n",
        "# For each epoch\n",
        "for epoch in range(num_epochs):\n",
        "    # For each batch in the dataloader\n",
        "    for i, data in enumerate(dataloader, 0):\n",
        "\n",
        "        ######################################################\n",
        "        # 1. Update D network: maximize log(D(x)) + log(1 - D(G(z)))\n",
        "        ######################################################\n",
        "\n",
        "        # Initialize the gradient of D\n",
        "        netD.zero_grad()\n",
        "\n",
        "        # 1.1 Calculate the loss with all-real batch\n",
        "\n",
        "        # Format batch\n",
        "        real_batch = data[0].to(device)\n",
        "        b_size = real_batch.size(0)\n",
        "        label = torch.full((b_size,), real_label, dtype=torch.float, device=device)\n",
        "        # Forward pass real batch through D\n",
        "        output = netD(real_batch).view(-1)\n",
        "        # Calculate loss on all-real batch\n",
        "        errD_real = criterion(output, label)\n",
        "        # Calculate gradients for D in backward pass\n",
        "        errD_real.backward()\n",
        "        D_x = output.mean().item()\n",
        "\n",
        "        # 1.2 Calculate the loss with all-fake batch\n",
        "        # Generate batch of latent vectors\n",
        "        noise = torch.randn(b_size, nz, 1, 1, device=device)\n",
        "        # Generate fake image batch with G and a label array\n",
        "        fake = netG(noise)\n",
        "        label.fill_(fake_label)\n",
        "        # Classify all fake batch with D\n",
        "        output = netD(fake.detach()).view(-1)\n",
        "        # Calculate D's loss on the all-fake batch\n",
        "        errD_fake = criterion(output, label)\n",
        "        # Calculate the gradients for this batch\n",
        "        errD_fake.backward()\n",
        "        # Calculate the mean of output, D_G_z1, from netD with your fake batch\n",
        "        D_G_z1 = output.mean().item()\n",
        "\n",
        "        # 1.3 Combine the loss from all-real batch and all-fake batch\n",
        "        # Add the gradients from the all-real and all-fake batches\n",
        "        errD = errD_real + errD_fake\n",
        "        # Update D with step()\n",
        "        optimizerD.step()\n",
        "\n",
        "        ######################################################\n",
        "        # 2. Update G network: maximize log(D(G(z)))\n",
        "        ######################################################\n",
        "\n",
        "        # TODO: Initialize the gradient of G\n",
        "\n",
        "        # TODO: create the label array, remember fake labels are real for generator cost\n",
        "\n",
        "        # TODO: Since we just updated D, perform another forward pass of all-fake batch throu$gh D as output (you are not suppose to detach here!)\n",
        "\n",
        "        # TODO: Calculate G's loss based on this output\n",
        "\n",
        "        # TODO: Calculate gradients using backword() for G's loss\n",
        "\n",
        "        # TODO: Calculate the mean of output, D_G_z2, from netD with your fake batch\n",
        "\n",
        "        # TODO: Update G with step\n",
        "\n",
        "        # Output training stats\n",
        "        if i % 50 == 0:\n",
        "            print('[%d/%d][%d/%d]\\tLoss_D: %.4f\\tLoss_G: %.4f\\tD(x): %.4f\\tD(G(z)): %.4f / %.4f'\n",
        "                  % (epoch, num_epochs, i, len(dataloader),\n",
        "                     errD.item(), errG.item(), D_x, D_G_z1, D_G_z2))\n",
        "\n",
        "        # Save Losses for plotting later\n",
        "        G_losses.append(errG.item())\n",
        "        D_losses.append(errD.item())\n",
        "\n",
        "        # Check how the generator is doing by saving G's output on fixed_noise\n",
        "        if (iters % 500 == 0) or ((epoch == num_epochs-1) and (i == len(dataloader)-1)):\n",
        "            with torch.no_grad():\n",
        "                fake = netG(fixed_noise).detach().cpu()\n",
        "            img_list.append(vutils.make_grid(fake, padding=2, normalize=True))\n",
        "\n",
        "        iters += 1"
      ]
    },
    {
      "cell_type": "code",
      "execution_count": null,
      "metadata": {
        "id": "hHGmXAqYl4vS"
      },
      "outputs": [],
      "source": [
        "plt.figure(figsize=(10,5))\n",
        "plt.title(\"Generator and Discriminator Loss During Training\")\n",
        "plt.plot(G_losses,label=\"G\")\n",
        "plt.plot(D_losses,label=\"D\")\n",
        "plt.xlabel(\"iterations\")\n",
        "plt.ylabel(\"Loss\")\n",
        "plt.legend()\n",
        "plt.show()"
      ]
    },
    {
      "cell_type": "code",
      "execution_count": null,
      "metadata": {
        "id": "zENkm71VnIUJ"
      },
      "outputs": [],
      "source": [
        "fig = plt.figure(figsize=(8,8))\n",
        "plt.axis(\"off\")\n",
        "ims = [[plt.imshow(np.transpose(i,(1,2,0)), animated=True)] for i in img_list]\n",
        "ani = animation.ArtistAnimation(fig, ims, interval=1000, repeat_delay=1000, blit=True)\n",
        "\n",
        "HTML(ani.to_jshtml())"
      ]
    },
    {
      "cell_type": "code",
      "execution_count": null,
      "metadata": {
        "id": "NUnlM342nMnS"
      },
      "outputs": [],
      "source": [
        "# Grab a batch of real images from the dataloader\n",
        "real_batch = next(iter(dataloader))\n",
        "\n",
        "# Plot the real images\n",
        "plt.figure(figsize=(15,15))\n",
        "plt.subplot(1,2,1)\n",
        "plt.axis(\"off\")\n",
        "plt.title(\"Real Images\")\n",
        "plt.imshow(np.transpose(vutils.make_grid(real_batch[0].to(device)[:64], padding=5, normalize=True).cpu(),(1,2,0)))\n",
        "\n",
        "# Plot the fake images from the last epoch\n",
        "plt.subplot(1,2,2)\n",
        "plt.axis(\"off\")\n",
        "plt.title(\"Fake Images\")\n",
        "plt.imshow(np.transpose(img_list[-1],(1,2,0)))\n",
        "plt.show()"
      ]
    }
  ],
  "metadata": {
    "accelerator": "GPU",
    "colab": {
      "provenance": [],
      "toc_visible": true
    },
    "gpuClass": "standard",
    "kernelspec": {
      "display_name": "Python 3",
      "name": "python3"
    },
    "language_info": {
      "name": "python"
    }
  },
  "nbformat": 4,
  "nbformat_minor": 0
}